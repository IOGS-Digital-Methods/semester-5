{
 "cells": [
  {
   "cell_type": "markdown",
   "id": "1c28ba82",
   "metadata": {},
   "source": [
    "# Décharge d'un condensateur dans une résistance"
   ]
  },
  {
   "cell_type": "code",
   "execution_count": 29,
   "id": "e0123a42",
   "metadata": {},
   "outputs": [],
   "source": [
    "import sympy as sp\n",
    "import numpy as np"
   ]
  },
  {
   "cell_type": "code",
   "execution_count": 35,
   "id": "10b941fe",
   "metadata": {},
   "outputs": [
    {
     "data": {
      "text/latex": [
       "$\\displaystyle \\frac{d}{d t} V_{s}{\\left(t \\right)} + \\frac{V_{s}{\\left(t \\right)}}{C R}$"
      ],
      "text/plain": [
       "Derivative(V_s(t), t) + V_s(t)/(C*R)"
      ]
     },
     "execution_count": 35,
     "metadata": {},
     "output_type": "execute_result"
    }
   ],
   "source": [
    "t, R, C = sp.symbols('t R C')\n",
    "vs = sp.Function('V_s')\n",
    "init_conds = {vs(0): 5}\n",
    "\n",
    "# Differential equation\n",
    "equation = (sp.Derivative(vs(t),t) + 1/(R*C)*vs(t))\n",
    "equation"
   ]
  },
  {
   "cell_type": "code",
   "execution_count": 36,
   "id": "22d52a9c",
   "metadata": {},
   "outputs": [
    {
     "data": {
      "text/latex": [
       "$\\displaystyle 5 e^{- \\frac{t}{C R}}$"
      ],
      "text/plain": [
       "5*exp(-t/(C*R))"
      ]
     },
     "execution_count": 36,
     "metadata": {},
     "output_type": "execute_result"
    }
   ],
   "source": [
    "result = sp.dsolve(equation, vs(t), ics=init_conds)\n",
    "vs_t = result.rhs\n",
    "vs_t"
   ]
  },
  {
   "cell_type": "markdown",
   "id": "13fc3f2f",
   "metadata": {},
   "source": [
    "Passage vers Numpy"
   ]
  },
  {
   "cell_type": "code",
   "execution_count": 37,
   "id": "4d0d8be6",
   "metadata": {},
   "outputs": [
    {
     "data": {
      "text/plain": [
       "<function _lambdifygenerated(t, R, C)>"
      ]
     },
     "execution_count": 37,
     "metadata": {},
     "output_type": "execute_result"
    }
   ],
   "source": [
    "from sympy.utilities.lambdify import lambdify\n",
    "func = lambdify([t, R, C], vs_t) #,'numpy') # returns a numpy-ready function\n",
    "func"
   ]
  },
  {
   "cell_type": "code",
   "execution_count": 40,
   "id": "5efd2488",
   "metadata": {},
   "outputs": [],
   "source": [
    "t = np.linspace(0,1,101)\n",
    "vst_array = func(t, 1e5, 1e-6)"
   ]
  },
  {
   "cell_type": "code",
   "execution_count": 42,
   "id": "f0b96bb9",
   "metadata": {},
   "outputs": [
    {
     "data": {
      "text/plain": [
       "[<matplotlib.lines.Line2D at 0x1f5719af3a0>]"
      ]
     },
     "execution_count": 42,
     "metadata": {},
     "output_type": "execute_result"
    },
    {
     "data": {
      "image/png": "[encoded data removed]",
      "text/plain": [
       "<Figure size 640x480 with 1 Axes>"
      ]
     },
     "metadata": {},
     "output_type": "display_data"
    }
   ],
   "source": [
    "from matplotlib import pyplot as plt\n",
    "plt.plot(t, vst_array)"
   ]
  }
 ],
 "metadata": {
  "kernelspec": {
   "display_name": "Python 3 (ipykernel)",
   "language": "python",
   "name": "python3"
  },
  "language_info": {
   "codemirror_mode": {
    "name": "ipython",
    "version": 3
   },
   "file_extension": ".py",
   "mimetype": "text/x-python",
   "name": "python",
   "nbconvert_exporter": "python",
   "pygments_lexer": "ipython3",
   "version": "3.9.16"
  }
 },
 "nbformat": 4,
 "nbformat_minor": 5
}
