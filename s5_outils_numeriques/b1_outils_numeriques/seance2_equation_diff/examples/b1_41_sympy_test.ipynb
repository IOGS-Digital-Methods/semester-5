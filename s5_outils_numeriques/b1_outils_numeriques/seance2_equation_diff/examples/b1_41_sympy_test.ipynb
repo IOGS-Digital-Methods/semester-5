{
 "cells": [
  {
   "cell_type": "markdown",
   "id": "62bac615",
   "metadata": {},
   "source": [
    "# Sympy pour le calcul formel"
   ]
  },
  {
   "cell_type": "markdown",
   "id": "d199cfd8",
   "metadata": {},
   "source": [
    "> **Importez les bibliothèques utiles**"
   ]
  },
  {
   "cell_type": "code",
   "execution_count": 1,
   "id": "d8696c37",
   "metadata": {},
   "outputs": [],
   "source": [
    "import math\n",
    "import sympy"
   ]
  },
  {
   "cell_type": "markdown",
   "id": "5c170b7c",
   "metadata": {},
   "source": [
    "## Premiers essais\n",
    "> **Testez les commandes suivantes**"
   ]
  },
  {
   "cell_type": "markdown",
   "id": "ad76441b",
   "metadata": {},
   "source": [
    "Avec la bibliothèque math \n",
    "Ces instructions fonctionnent de la même manière avec la bibliothèque Numpy"
   ]
  },
  {
   "cell_type": "code",
   "execution_count": 2,
   "id": "dc98c6bc",
   "metadata": {},
   "outputs": [
    {
     "data": {
      "text/plain": [
       "3.0"
      ]
     },
     "execution_count": 2,
     "metadata": {},
     "output_type": "execute_result"
    }
   ],
   "source": [
    "math.sqrt(9)"
   ]
  },
  {
   "cell_type": "code",
   "execution_count": 3,
   "id": "85f541b7",
   "metadata": {},
   "outputs": [
    {
     "data": {
      "text/plain": [
       "2.8284271247461903"
      ]
     },
     "execution_count": 3,
     "metadata": {},
     "output_type": "execute_result"
    }
   ],
   "source": [
    "math.sqrt(8)"
   ]
  },
  {
   "cell_type": "markdown",
   "id": "5ecbd569",
   "metadata": {},
   "source": [
    "Avec la bibliothèque Sympy"
   ]
  },
  {
   "cell_type": "code",
   "execution_count": 4,
   "id": "6d933928",
   "metadata": {
    "scrolled": true
   },
   "outputs": [
    {
     "data": {
      "text/latex": [
       "$\\displaystyle 3$"
      ],
      "text/plain": [
       "3"
      ]
     },
     "execution_count": 4,
     "metadata": {},
     "output_type": "execute_result"
    }
   ],
   "source": [
    "sympy.sqrt(9)"
   ]
  },
  {
   "cell_type": "code",
   "execution_count": 5,
   "id": "0bd354eb",
   "metadata": {},
   "outputs": [
    {
     "data": {
      "text/latex": [
       "$\\displaystyle 2 \\sqrt{2}$"
      ],
      "text/plain": [
       "2*sqrt(2)"
      ]
     },
     "execution_count": 5,
     "metadata": {},
     "output_type": "execute_result"
    }
   ],
   "source": [
    "sympy.sqrt(8)"
   ]
  },
  {
   "cell_type": "code",
   "execution_count": 6,
   "id": "3222c90a",
   "metadata": {},
   "outputs": [
    {
     "name": "stdout",
     "output_type": "stream",
     "text": [
      "1.5\n"
     ]
    }
   ],
   "source": [
    "m = 3/2\n",
    "print(m)"
   ]
  },
  {
   "cell_type": "code",
   "execution_count": 7,
   "id": "57173084",
   "metadata": {},
   "outputs": [
    {
     "name": "stdout",
     "output_type": "stream",
     "text": [
      "3/2\n"
     ]
    }
   ],
   "source": [
    "k = sympy.Rational(3,2)\n",
    "print(k)"
   ]
  },
  {
   "cell_type": "markdown",
   "id": "70060fa7",
   "metadata": {},
   "source": [
    "## Expressions"
   ]
  },
  {
   "cell_type": "markdown",
   "id": "80fc7f06",
   "metadata": {},
   "source": [
    "Il est possible de mettre en forme des équations avec Sympy.\n",
    "> **Testez l'exemple suivant**"
   ]
  },
  {
   "cell_type": "code",
   "execution_count": 8,
   "id": "55ede9e3",
   "metadata": {},
   "outputs": [
    {
     "data": {
      "text/latex": [
       "$\\displaystyle x^{2} - 4 x + 5$"
      ],
      "text/plain": [
       "x**2 - 4*x + 5"
      ]
     },
     "execution_count": 8,
     "metadata": {},
     "output_type": "execute_result"
    }
   ],
   "source": [
    "x, y = sympy.symbols('x y')\n",
    "expr = x**2 - 4 * x + 5\n",
    "expr"
   ]
  },
  {
   "cell_type": "code",
   "execution_count": 9,
   "id": "baf3c438",
   "metadata": {},
   "outputs": [
    {
     "data": {
      "text/latex": [
       "$\\displaystyle 2$"
      ],
      "text/plain": [
       "2"
      ]
     },
     "execution_count": 9,
     "metadata": {},
     "output_type": "execute_result"
    }
   ],
   "source": [
    "expr.subs(x, 1)"
   ]
  },
  {
   "cell_type": "markdown",
   "id": "ea30ab0a",
   "metadata": {},
   "source": [
    "> **A quoi sert la fonction *subs* ?**"
   ]
  },
  {
   "cell_type": "markdown",
   "id": "07ca4ddb",
   "metadata": {},
   "source": [
    "Réponse : "
   ]
  },
  {
   "cell_type": "markdown",
   "id": "d67ec2e7",
   "metadata": {},
   "source": [
    "### Développer et factoriser"
   ]
  },
  {
   "cell_type": "code",
   "execution_count": 10,
   "id": "2ba58ca8",
   "metadata": {},
   "outputs": [
    {
     "data": {
      "text/latex": [
       "$\\displaystyle x \\left(x^{2} - 4 x + 5\\right)$"
      ],
      "text/plain": [
       "x*(x**2 - 4*x + 5)"
      ]
     },
     "execution_count": 10,
     "metadata": {},
     "output_type": "execute_result"
    }
   ],
   "source": [
    "x*expr"
   ]
  },
  {
   "cell_type": "code",
   "execution_count": 11,
   "id": "9d6f8f67",
   "metadata": {},
   "outputs": [
    {
     "data": {
      "text/latex": [
       "$\\displaystyle x^{3} - 4 x^{2} + 5 x$"
      ],
      "text/plain": [
       "x**3 - 4*x**2 + 5*x"
      ]
     },
     "execution_count": 11,
     "metadata": {},
     "output_type": "execute_result"
    }
   ],
   "source": [
    "expand_exp = sympy.expand(x*expr)\n",
    "expand_exp"
   ]
  },
  {
   "cell_type": "code",
   "execution_count": 12,
   "id": "8dd656a8",
   "metadata": {},
   "outputs": [
    {
     "data": {
      "text/latex": [
       "$\\displaystyle x \\left(x^{2} - 4 x + 5\\right)$"
      ],
      "text/plain": [
       "x*(x**2 - 4*x + 5)"
      ]
     },
     "execution_count": 12,
     "metadata": {},
     "output_type": "execute_result"
    }
   ],
   "source": [
    "factor_exp = sympy.factor(expand_exp)\n",
    "factor_exp"
   ]
  },
  {
   "cell_type": "markdown",
   "id": "14528e6a",
   "metadata": {},
   "source": [
    "## Fonctions"
   ]
  },
  {
   "cell_type": "markdown",
   "id": "f4995b2f",
   "metadata": {},
   "source": [
    "Soit la fonction $f(x,y) = x^2 + y$"
   ]
  },
  {
   "cell_type": "code",
   "execution_count": 13,
   "id": "f2438c85",
   "metadata": {},
   "outputs": [
    {
     "data": {
      "text/latex": [
       "$\\displaystyle x^{2} + y$"
      ],
      "text/plain": [
       "x**2 + y"
      ]
     },
     "execution_count": 13,
     "metadata": {},
     "output_type": "execute_result"
    }
   ],
   "source": [
    "f = sympy.Function('f')\n",
    "f = x**2 + y\n",
    "f"
   ]
  },
  {
   "cell_type": "code",
   "execution_count": 14,
   "id": "9a195faa",
   "metadata": {},
   "outputs": [
    {
     "data": {
      "text/latex": [
       "$\\displaystyle y + 16$"
      ],
      "text/plain": [
       "y + 16"
      ]
     },
     "execution_count": 14,
     "metadata": {},
     "output_type": "execute_result"
    }
   ],
   "source": [
    "f.subs(x, 4)"
   ]
  },
  {
   "cell_type": "code",
   "execution_count": 15,
   "id": "8117f3ce",
   "metadata": {},
   "outputs": [
    {
     "data": {
      "text/latex": [
       "$\\displaystyle x^{2} + 1$"
      ],
      "text/plain": [
       "x**2 + 1"
      ]
     },
     "execution_count": 15,
     "metadata": {},
     "output_type": "execute_result"
    }
   ],
   "source": [
    "f.subs(y, 1)"
   ]
  },
  {
   "cell_type": "code",
   "execution_count": 16,
   "id": "f081c66b",
   "metadata": {},
   "outputs": [
    {
     "data": {
      "text/latex": [
       "$\\displaystyle 3$"
      ],
      "text/plain": [
       "3"
      ]
     },
     "execution_count": 16,
     "metadata": {},
     "output_type": "execute_result"
    }
   ],
   "source": [
    "f.subs({x:1, y: 2})"
   ]
  },
  {
   "cell_type": "markdown",
   "id": "c4fd0734",
   "metadata": {},
   "source": [
    "## Calculs de limites\n",
    "Soit la fonction $g(x) = \\sin(\\frac{x}{2} + \\sin(x))$.\n",
    "\n",
    "On souhaite calculer la limite de cette fonction $g(x)$ en $\\pi$."
   ]
  },
  {
   "cell_type": "code",
   "execution_count": 17,
   "id": "5c9b0710",
   "metadata": {},
   "outputs": [
    {
     "data": {
      "text/latex": [
       "$\\displaystyle \\sin{\\left(\\frac{x}{2} + \\sin{\\left(x \\right)} \\right)}$"
      ],
      "text/plain": [
       "sin(x/2 + sin(x))"
      ]
     },
     "execution_count": 17,
     "metadata": {},
     "output_type": "execute_result"
    }
   ],
   "source": [
    "g = sympy.Function('g')\n",
    "g = sympy.sin(x/2 + sympy.sin(x))\n",
    "g"
   ]
  },
  {
   "cell_type": "code",
   "execution_count": 18,
   "id": "6739399f",
   "metadata": {},
   "outputs": [
    {
     "data": {
      "text/latex": [
       "$\\displaystyle 1$"
      ],
      "text/plain": [
       "1"
      ]
     },
     "execution_count": 18,
     "metadata": {},
     "output_type": "execute_result"
    }
   ],
   "source": [
    "lg = sympy.limit(g, x, sympy.pi)\n",
    "lg"
   ]
  },
  {
   "cell_type": "markdown",
   "id": "a4e1ca24",
   "metadata": {},
   "source": [
    "## Dérivées"
   ]
  },
  {
   "cell_type": "code",
   "execution_count": 19,
   "id": "7bb1b568",
   "metadata": {},
   "outputs": [
    {
     "data": {
      "text/latex": [
       "$\\displaystyle x^{2} + y$"
      ],
      "text/plain": [
       "x**2 + y"
      ]
     },
     "execution_count": 19,
     "metadata": {},
     "output_type": "execute_result"
    }
   ],
   "source": [
    "f = x**2 + y\n",
    "f"
   ]
  },
  {
   "cell_type": "code",
   "execution_count": 20,
   "id": "914889a3",
   "metadata": {},
   "outputs": [
    {
     "data": {
      "text/latex": [
       "$\\displaystyle 2 x$"
      ],
      "text/plain": [
       "2*x"
      ]
     },
     "execution_count": 20,
     "metadata": {},
     "output_type": "execute_result"
    }
   ],
   "source": [
    "dfx = sympy.diff(f, x)\n",
    "dfx"
   ]
  },
  {
   "cell_type": "code",
   "execution_count": 21,
   "id": "e3649806",
   "metadata": {},
   "outputs": [
    {
     "data": {
      "text/latex": [
       "$\\displaystyle 1$"
      ],
      "text/plain": [
       "1"
      ]
     },
     "execution_count": 21,
     "metadata": {},
     "output_type": "execute_result"
    }
   ],
   "source": [
    "dfy = sympy.diff(f, y)\n",
    "dfy"
   ]
  },
  {
   "cell_type": "code",
   "execution_count": 22,
   "id": "bee61453",
   "metadata": {},
   "outputs": [
    {
     "data": {
      "text/plain": [
       "(k(x), l(x + k(x)))"
      ]
     },
     "execution_count": 22,
     "metadata": {},
     "output_type": "execute_result"
    }
   ],
   "source": [
    "k = sympy.Function('k')\n",
    "l = sympy.Function('l')\n",
    "k = k(x)\n",
    "l = l(x + k)\n",
    "k, l"
   ]
  },
  {
   "cell_type": "code",
   "execution_count": 23,
   "id": "59f1532d",
   "metadata": {},
   "outputs": [
    {
     "data": {
      "text/latex": [
       "$\\displaystyle \\left(\\frac{d}{d x} k{\\left(x \\right)} + 1\\right) \\left. \\frac{d}{d \\xi_{1}} l{\\left(\\xi_{1} \\right)} \\right|_{\\substack{ \\xi_{1}=x + k{\\left(x \\right)} }}$"
      ],
      "text/plain": [
       "(Derivative(k(x), x) + 1)*Subs(Derivative(l(_xi_1), _xi_1), _xi_1, x + k(x))"
      ]
     },
     "execution_count": 23,
     "metadata": {},
     "output_type": "execute_result"
    }
   ],
   "source": [
    "dfkl = sympy.diff(l, x)\n",
    "dfkl"
   ]
  },
  {
   "cell_type": "markdown",
   "id": "4d172a7d",
   "metadata": {},
   "source": [
    "## Intégrales"
   ]
  },
  {
   "cell_type": "code",
   "execution_count": 24,
   "id": "b3e23608",
   "metadata": {},
   "outputs": [
    {
     "data": {
      "text/latex": [
       "$\\displaystyle \\frac{x^{3}}{3} + x y$"
      ],
      "text/plain": [
       "x**3/3 + x*y"
      ]
     },
     "execution_count": 24,
     "metadata": {},
     "output_type": "execute_result"
    }
   ],
   "source": [
    "inte_f = sympy.integrate(f, x)\n",
    "inte_f"
   ]
  }
 ],
 "metadata": {
  "kernelspec": {
   "display_name": "Python 3 (ipykernel)",
   "language": "python",
   "name": "python3"
  },
  "language_info": {
   "codemirror_mode": {
    "name": "ipython",
    "version": 3
   },
   "file_extension": ".py",
   "mimetype": "text/x-python",
   "name": "python",
   "nbconvert_exporter": "python",
   "pygments_lexer": "ipython3",
   "version": "3.9.16"
  }
 },
 "nbformat": 4,
 "nbformat_minor": 5
}
