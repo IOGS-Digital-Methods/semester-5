{
 "cells": [
  {
   "cell_type": "markdown",
   "id": "b78c14d4",
   "metadata": {},
   "source": [
    "# Gestion des erreurs"
   ]
  },
  {
   "cell_type": "markdown",
   "id": "2100a46c",
   "metadata": {},
   "source": [
    "> Que donne l'exécution du code suivant selon que vous saisissiez un entier différent de 0 ? égal à 0 ? un caractère ?"
   ]
  },
  {
   "cell_type": "code",
   "execution_count": null,
   "id": "418418cc",
   "metadata": {},
   "outputs": [],
   "source": [
    "try:\n",
    "    g = int(input('Saisir un entier : '))\n",
    "    a = 5/g\n",
    "    print(f'g = {g} et a = {a}')\n",
    "except ValueError :\n",
    "    print('Vous n\\'avez pas saisi un entier !')\n",
    "except ZeroDivisionError :\n",
    "    print('Toujours pas possible de diviser par 0 !!')\n",
    "except:\n",
    "    print('Erreur !!!')"
   ]
  }
 ],
 "metadata": {
  "kernelspec": {
   "display_name": "Python 3 (ipykernel)",
   "language": "python",
   "name": "python3"
  },
  "language_info": {
   "codemirror_mode": {
    "name": "ipython",
    "version": 3
   },
   "file_extension": ".py",
   "mimetype": "text/x-python",
   "name": "python",
   "nbconvert_exporter": "python",
   "pygments_lexer": "ipython3",
   "version": "3.9.16"
  }
 },
 "nbformat": 4,
 "nbformat_minor": 5
}
