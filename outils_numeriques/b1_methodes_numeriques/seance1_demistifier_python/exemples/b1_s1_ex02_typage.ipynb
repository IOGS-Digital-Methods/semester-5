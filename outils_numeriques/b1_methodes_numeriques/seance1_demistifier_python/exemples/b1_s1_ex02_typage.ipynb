{
 "cells": [
  {
   "cell_type": "markdown",
   "id": "9c665649",
   "metadata": {},
   "source": [
    "# Typage des données sous Python"
   ]
  },
  {
   "cell_type": "markdown",
   "id": "f2924842",
   "metadata": {},
   "source": [
    "## Variable et type de données"
   ]
  },
  {
   "cell_type": "markdown",
   "id": "7b18eddf",
   "metadata": {},
   "source": [
    "> **Exécutez les instructions suivantes**"
   ]
  },
  {
   "cell_type": "code",
   "execution_count": null,
   "id": "b280d605",
   "metadata": {},
   "outputs": [],
   "source": [
    "k = 1\n",
    "print(f'k = {k}')\n",
    "print(type(k))"
   ]
  },
  {
   "cell_type": "code",
   "execution_count": null,
   "id": "69e7f5ee",
   "metadata": {},
   "outputs": [],
   "source": [
    "k = 0.1\n",
    "print(f'k = {k}')\n",
    "print(type(k))"
   ]
  },
  {
   "cell_type": "code",
   "execution_count": null,
   "id": "0d03612c",
   "metadata": {},
   "outputs": [],
   "source": [
    "k = '1'\n",
    "print(f'k = {k}')\n",
    "print(type(k))"
   ]
  },
  {
   "cell_type": "markdown",
   "id": "c1576a3f",
   "metadata": {},
   "source": [
    "Quelles sont les différences entre les 3 résultats obtenus ?"
   ]
  },
  {
   "cell_type": "markdown",
   "id": "8f58201e",
   "metadata": {},
   "source": [
    "Réponse :"
   ]
  },
  {
   "cell_type": "markdown",
   "id": "ffbff058",
   "metadata": {},
   "source": [
    "## Changement de type"
   ]
  },
  {
   "cell_type": "markdown",
   "id": "652c1db8",
   "metadata": {},
   "source": [
    "> Exécutez les instructions suivantes"
   ]
  },
  {
   "cell_type": "code",
   "execution_count": null,
   "id": "5915b677",
   "metadata": {},
   "outputs": [],
   "source": [
    "m = int(k)\n",
    "print(f'm = {m}')\n",
    "print(type(m))"
   ]
  },
  {
   "cell_type": "markdown",
   "id": "b777d61f",
   "metadata": {},
   "source": [
    "De quel type est k avec l'exécution ? De quel type est m ?"
   ]
  },
  {
   "cell_type": "markdown",
   "id": "f902de34",
   "metadata": {},
   "source": [
    "Réponse :"
   ]
  },
  {
   "cell_type": "markdown",
   "id": "7f2efcaa",
   "metadata": {},
   "source": [
    "## Des octets partout..."
   ]
  },
  {
   "cell_type": "markdown",
   "id": "293fdda9",
   "metadata": {},
   "source": [
    "> Exécutez les instructions suivantes"
   ]
  },
  {
   "cell_type": "code",
   "execution_count": null,
   "id": "ff32a744",
   "metadata": {},
   "outputs": [],
   "source": [
    "b = b'\\x61\\x41\\x42'\n",
    "print(b)\n",
    "print(type(b))\n",
    "\n",
    "b = b.decode('UTF-8')\n",
    "print(b)\n",
    "print(type(b))"
   ]
  },
  {
   "cell_type": "markdown",
   "id": "89c29b23",
   "metadata": {},
   "source": [
    "Que pouvez-vous en conclure ?"
   ]
  }
 ],
 "metadata": {
  "kernelspec": {
   "display_name": "Python 3 (ipykernel)",
   "language": "python",
   "name": "python3"
  },
  "language_info": {
   "codemirror_mode": {
    "name": "ipython",
    "version": 3
   },
   "file_extension": ".py",
   "mimetype": "text/x-python",
   "name": "python",
   "nbconvert_exporter": "python",
   "pygments_lexer": "ipython3",
   "version": "3.9.16"
  }
 },
 "nbformat": 4,
 "nbformat_minor": 5
}
